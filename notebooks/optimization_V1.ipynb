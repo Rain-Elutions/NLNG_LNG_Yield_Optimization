{
 "cells": [
  {
   "cell_type": "code",
   "execution_count": 1,
   "id": "ff4aa3e8-e909-41d1-a981-92d6f04576ba",
   "metadata": {},
   "outputs": [],
   "source": [
    "import pandas as pd\n",
    "import numpy as np\n",
    "import matplotlib.pyplot as plt\n",
    "from sklearn.model_selection import train_test_split\n",
    "from xgboost import XGBRegressor\n",
    "import pickle\n",
    "\n",
    "from utils.util import read_yaml\n",
    "from box import Box\n",
    "\n",
    "from utils.eda_tools import select_good_period, single_column_vis\n",
    "import warnings\n",
    "warnings.filterwarnings('ignore')"
   ]
  },
  {
   "attachments": {},
   "cell_type": "markdown",
   "id": "d68c935d",
   "metadata": {},
   "source": [
    "#### Load Data"
   ]
  },
  {
   "cell_type": "code",
   "execution_count": 2,
   "id": "4cafacb7",
   "metadata": {},
   "outputs": [],
   "source": [
    "cfg = Box(read_yaml('../src/conf/config.yaml'))\n",
    "Config = Box(read_yaml('../src/conf/baseline.yaml'))"
   ]
  },
  {
   "cell_type": "code",
   "execution_count": 3,
   "id": "29f145ca-a22b-4013-8d6f-b255abe526c3",
   "metadata": {},
   "outputs": [],
   "source": [
    "# df = pd.read_csv(Config.data.raw_file_path, index_col=0, parse_dates=[0])\n",
    "\n",
    "# selected_tags = pd.read_csv(Config.data.output_selected_tag_path, index_col=0)\n",
    "# selected_tags = selected_tags[~selected_tags.Tags.isin(Config.preprocessing.remove_unwanted_cv.parameters.columns)]\n",
    "\n",
    "# ctrl_tag = list(selected_tags.query('Control==\"Yes\"').Tags.values)\n",
    "# ind_tag = list(selected_tags.query('Control!=\"Yes\"').Tags.values)\n",
    "\n",
    "# df = df[ctrl_tag+ind_tag+[Config.target]]\n",
    "\n",
    "# # Remove Shutdown\n",
    "# df = df.query(f'`{Config.preprocessing.remove_shutdown_period.parameters.column}`{Config.preprocessing.remove_shutdown_period.parameters.operator}{Config.preprocessing.remove_shutdown_period.parameters.threshold}')"
   ]
  },
  {
   "cell_type": "code",
   "execution_count": 4,
   "id": "5c1b0970",
   "metadata": {},
   "outputs": [],
   "source": [
    "df_path = cfg.path.processed_data\n",
    "df = pd.read_csv(df_path, parse_dates=['Timestamp'], index_col=0)"
   ]
  },
  {
   "cell_type": "code",
   "execution_count": 5,
   "id": "561c5e30",
   "metadata": {},
   "outputs": [
    {
     "data": {
      "text/plain": [
       "(22816, 1912)"
      ]
     },
     "execution_count": 5,
     "metadata": {},
     "output_type": "execute_result"
    }
   ],
   "source": [
    "# move the target variable to the first of the dataframe\n",
    "df = df[[cfg.target_variable] + [col for col in df.columns if col != cfg.target_variable]]\n",
    "# select the rows in df where the target variable is larger than 100\n",
    "df = df[df[cfg.target_variable] > 100]\n",
    "df.shape"
   ]
  },
  {
   "cell_type": "code",
   "execution_count": 3,
   "id": "e7ebb7da",
   "metadata": {},
   "outputs": [
    {
     "data": {
      "text/html": [
       "<div>\n",
       "<style scoped>\n",
       "    .dataframe tbody tr th:only-of-type {\n",
       "        vertical-align: middle;\n",
       "    }\n",
       "\n",
       "    .dataframe tbody tr th {\n",
       "        vertical-align: top;\n",
       "    }\n",
       "\n",
       "    .dataframe thead th {\n",
       "        text-align: right;\n",
       "    }\n",
       "</style>\n",
       "<table border=\"1\" class=\"dataframe\">\n",
       "  <thead>\n",
       "    <tr style=\"text-align: right;\">\n",
       "      <th></th>\n",
       "      <th>Tags</th>\n",
       "      <th>Full Tags</th>\n",
       "      <th>Assets1</th>\n",
       "      <th>Assets</th>\n",
       "      <th>Locn</th>\n",
       "      <th>Location</th>\n",
       "      <th>Column1</th>\n",
       "      <th>Property</th>\n",
       "      <th>Description</th>\n",
       "      <th>Units</th>\n",
       "      <th>Digital (States)\\n</th>\n",
       "    </tr>\n",
       "  </thead>\n",
       "  <tbody>\n",
       "    <tr>\n",
       "      <th>0</th>\n",
       "      <td>311FC020.MEAS</td>\n",
       "      <td>3P1101_2:311FC020.MEAS</td>\n",
       "      <td>3P1101_2</td>\n",
       "      <td>3P1101</td>\n",
       "      <td>3-1100</td>\n",
       "      <td>Acid Gas Removal Unit</td>\n",
       "      <td>fc</td>\n",
       "      <td>MEAS</td>\n",
       "      <td>P1101B MIN FLOW</td>\n",
       "      <td>T/D</td>\n",
       "      <td></td>\n",
       "    </tr>\n",
       "    <tr>\n",
       "      <th>1</th>\n",
       "      <td>311FRQ003.MEAS</td>\n",
       "      <td>3V1101_1:311FRQ003.MEAS</td>\n",
       "      <td>3V1101_1</td>\n",
       "      <td>3V1101</td>\n",
       "      <td>3-1100</td>\n",
       "      <td>Acid Gas Removal Unit</td>\n",
       "      <td>frq</td>\n",
       "      <td>MEAS</td>\n",
       "      <td>COMP U1100 GAS IN TO V1101</td>\n",
       "      <td>T/D</td>\n",
       "      <td></td>\n",
       "    </tr>\n",
       "    <tr>\n",
       "      <th>2</th>\n",
       "      <td>311PC017.MEAS</td>\n",
       "      <td>3V1102_2:311PC017.MEAS</td>\n",
       "      <td>3V1102_2</td>\n",
       "      <td>3V1102</td>\n",
       "      <td>3-1100</td>\n",
       "      <td>Acid Gas Removal Unit</td>\n",
       "      <td>pc</td>\n",
       "      <td>MEAS</td>\n",
       "      <td>V1102 GAS OUTLET TO ATM</td>\n",
       "      <td>BAR G</td>\n",
       "      <td></td>\n",
       "    </tr>\n",
       "    <tr>\n",
       "      <th>3</th>\n",
       "      <td>342LC116.MEAS</td>\n",
       "      <td>3E4201_2:342LC116.MEAS</td>\n",
       "      <td>3E4201_2</td>\n",
       "      <td>3E4201</td>\n",
       "      <td>3-4200</td>\n",
       "      <td>Cooling Water System</td>\n",
       "      <td>lc</td>\n",
       "      <td>MEAS</td>\n",
       "      <td>A4201 CW BASIN</td>\n",
       "      <td>%</td>\n",
       "      <td></td>\n",
       "    </tr>\n",
       "    <tr>\n",
       "      <th>4</th>\n",
       "      <td>312PC010.MEAS</td>\n",
       "      <td>3V1202_2:312PC010.MEAS</td>\n",
       "      <td>3V1202_2</td>\n",
       "      <td>3V1202</td>\n",
       "      <td>3-1200</td>\n",
       "      <td>Dehydration Unit</td>\n",
       "      <td>pc</td>\n",
       "      <td>MEAS</td>\n",
       "      <td>V1202 3 PHASE SEP</td>\n",
       "      <td>BAR G</td>\n",
       "      <td></td>\n",
       "    </tr>\n",
       "  </tbody>\n",
       "</table>\n",
       "</div>"
      ],
      "text/plain": [
       "             Tags                Full Tags   Assets1  Assets    Locn   \n",
       "0   311FC020.MEAS   3P1101_2:311FC020.MEAS  3P1101_2  3P1101  3-1100  \\\n",
       "1  311FRQ003.MEAS  3V1101_1:311FRQ003.MEAS  3V1101_1  3V1101  3-1100   \n",
       "2   311PC017.MEAS   3V1102_2:311PC017.MEAS  3V1102_2  3V1102  3-1100   \n",
       "3   342LC116.MEAS   3E4201_2:342LC116.MEAS  3E4201_2  3E4201  3-4200   \n",
       "4   312PC010.MEAS   3V1202_2:312PC010.MEAS  3V1202_2  3V1202  3-1200   \n",
       "\n",
       "                Location Column1 Property                 Description  Units   \n",
       "0  Acid Gas Removal Unit      fc     MEAS             P1101B MIN FLOW    T/D  \\\n",
       "1  Acid Gas Removal Unit     frq     MEAS  COMP U1100 GAS IN TO V1101    T/D   \n",
       "2  Acid Gas Removal Unit      pc     MEAS     V1102 GAS OUTLET TO ATM  BAR G   \n",
       "3   Cooling Water System      lc     MEAS              A4201 CW BASIN      %   \n",
       "4       Dehydration Unit      pc     MEAS           V1202 3 PHASE SEP  BAR G   \n",
       "\n",
       "  Digital (States)\\n  \n",
       "0                     \n",
       "1                     \n",
       "2                     \n",
       "3                     \n",
       "4                     "
      ]
     },
     "execution_count": 3,
     "metadata": {},
     "output_type": "execute_result"
    }
   ],
   "source": [
    "selected_tags = pd.read_csv(cfg.path.v1.selected_tags)\n",
    "selected_tags.head()"
   ]
  },
  {
   "cell_type": "code",
   "execution_count": 4,
   "id": "c7099d3c",
   "metadata": {},
   "outputs": [
    {
     "name": "stdout",
     "output_type": "stream",
     "text": [
      "21\n"
     ]
    }
   ],
   "source": [
    "ctrl_tag = selected_tags[selected_tags['Tags'].str.endswith('.MEAS')]['Tags'].tolist()\n",
    "print(len(ctrl_tag))\n",
    "ind_tag = selected_tags[~selected_tags['Tags'].str.endswith('.MEAS')]['Tags'].tolist()"
   ]
  },
  {
   "cell_type": "code",
   "execution_count": 5,
   "id": "a7a7c08c-7499-4de4-bed7-38b1fe01a3c9",
   "metadata": {},
   "outputs": [],
   "source": [
    "#select_good_period(df, 10)"
   ]
  },
  {
   "cell_type": "code",
   "execution_count": 7,
   "id": "c0feef98-012d-4105-9cc9-6f091724a905",
   "metadata": {},
   "outputs": [],
   "source": [
    "# # Investigate in all the CV\n",
    "# for tag in ctrl_tag:\n",
    "#     fig = single_column_vis(df, tag, '')\n",
    "#     fig.show()"
   ]
  },
  {
   "attachments": {},
   "cell_type": "markdown",
   "id": "6948fdda",
   "metadata": {},
   "source": [
    "#### Build the Final Model / Feature Selection Verification"
   ]
  },
  {
   "cell_type": "code",
   "execution_count": 43,
   "id": "30478d88-dc6c-4835-8608-9e922e8be37d",
   "metadata": {},
   "outputs": [
    {
     "data": {
      "image/png": "[encoded data removed]",
      "text/plain": [
       "<Figure size 640x480 with 1 Axes>"
      ]
     },
     "metadata": {},
     "output_type": "display_data"
    }
   ],
   "source": [
    "my_model = XGBRegressor(**Config.xgboost_regressor_config.model_config)\n",
    "\n",
    "X = df[ctrl_tag+ind_tag]\n",
    "y = df[Config.target]\n",
    "\n",
    "train_data, test_data, train_target, test_target = train_test_split(X, y, **Config.xgboost_regressor_config.train_config)\n",
    "\n",
    "my_model.fit(train_data, train_target, \n",
    "             eval_set=[(train_data, train_target),(test_data, test_target)], verbose=False)\n",
    "\n",
    "results = my_model.evals_result()\n",
    "\n",
    "# plot learning curves\n",
    "plt.plot(results['validation_0']['rmse'], label='train')\n",
    "plt.plot(results['validation_1']['rmse'], label='validation')\n",
    "# show the legend\n",
    "plt.legend()\n",
    "# show the plot\n",
    "plt.show()"
   ]
  },
  {
   "cell_type": "code",
   "execution_count": 44,
   "id": "1d232929",
   "metadata": {},
   "outputs": [
    {
     "name": "stdout",
     "output_type": "stream",
     "text": [
      "Train RMSE: 45.77\n",
      "Test RMSE: 58.72\n"
     ]
    }
   ],
   "source": [
    "# print the rmse for the train and test sets\n",
    "print(\"Train RMSE: %.2f\" % (results['validation_0']['rmse'][-1]))\n",
    "print(\"Test RMSE: %.2f\" % (results['validation_1']['rmse'][-1]))\n",
    "# # print the r^2 for the train and test sets\n",
    "# print(\"Train R2: %.2f\" % (results['validation_0']['r2'][-1]))\n",
    "# print(\"Test R2: %.2f\" % (results['validation_1']['r2'][-1]))"
   ]
  },
  {
   "cell_type": "code",
   "execution_count": 48,
   "id": "abdfe0a5",
   "metadata": {},
   "outputs": [],
   "source": [
    "# save\n",
    "pickle.dump(my_model, open(Config.xgboost_regressor_config.v1_model_path, \"wb\"))"
   ]
  },
  {
   "cell_type": "code",
   "execution_count": 7,
   "id": "929eab17",
   "metadata": {},
   "outputs": [
    {
     "data": {
      "image/png": "[encoded data removed]",
      "text/plain": [
       "<Figure size 640x480 with 1 Axes>"
      ]
     },
     "metadata": {},
     "output_type": "display_data"
    }
   ],
   "source": [
    "# load the model\n",
    "loaded_model = pickle.load(open(Config.xgboost_regressor_config.v1_model_path, \"rb\"))\n",
    "# get the feature importance for ctrl_tag\n",
    "importance = loaded_model.feature_importances_[:len(ctrl_tag)]\n",
    "# plot feature importance, add names\n",
    "plt.bar([x for x in range(len(importance))], importance)\n",
    "plt.xticks([x for x in range(len(importance))], ctrl_tag, rotation='vertical')\n",
    "plt.show()"
   ]
  },
  {
   "cell_type": "code",
   "execution_count": 49,
   "id": "8bc7dd3d-26bc-47ae-948d-78ab7148bce8",
   "metadata": {},
   "outputs": [
    {
     "data": {
      "text/plain": [
       "[<matplotlib.lines.Line2D at 0x280a923aad0>]"
      ]
     },
     "execution_count": 49,
     "metadata": {},
     "output_type": "execute_result"
    },
    {
     "data": {
      "image/png": "[encoded data removed]",
      "text/plain": [
       "<Figure size 640x480 with 1 Axes>"
      ]
     },
     "metadata": {},
     "output_type": "display_data"
    }
   ],
   "source": [
    "plt.plot(train_data.index, train_target)\n",
    "plt.plot(train_data.index, my_model.predict(train_data))"
   ]
  },
  {
   "cell_type": "code",
   "execution_count": 50,
   "id": "cc5ec658-9875-4d2c-83fa-72454037a02d",
   "metadata": {},
   "outputs": [
    {
     "data": {
      "text/plain": [
       "[<matplotlib.lines.Line2D at 0x2809a2fd550>]"
      ]
     },
     "execution_count": 50,
     "metadata": {},
     "output_type": "execute_result"
    },
    {
     "data": {
      "image/png": "[encoded data removed]",
      "text/plain": [
       "<Figure size 640x480 with 1 Axes>"
      ]
     },
     "metadata": {},
     "output_type": "display_data"
    }
   ],
   "source": [
    "plt.plot(test_data.index, test_target)\n",
    "plt.plot(test_data.index, my_model.predict(test_data))"
   ]
  },
  {
   "attachments": {},
   "cell_type": "markdown",
   "id": "8a00af4c",
   "metadata": {},
   "source": [
    "#### Optimization"
   ]
  },
  {
   "cell_type": "code",
   "execution_count": 51,
   "id": "27d011b5-2e0b-4895-991a-b5b9f3c162b9",
   "metadata": {},
   "outputs": [],
   "source": [
    "from tqdm.notebook import tqdm_notebook\n",
    "\n",
    "from utils.util import read_json, read_pickle, write_json\n",
    "from utils.eda_tools import single_column_vis, lines_plot\n",
    "from utils.optimization_result_vis import Controllable_Value_Plot\n",
    "\n",
    "from optimization.Features import Feature_Info, get_feature_full_name\n",
    "from optimization.Data import IncomingData, Missing_info\n",
    "from optimization.Bounds import Bounds\n",
    "from optimization.Dual_Annealing_Optimization import Dual_Annealing_Optimization"
   ]
  },
  {
   "cell_type": "code",
   "execution_count": 52,
   "id": "89ec1caf-d5a4-44b2-8b3a-1b06a908ce3d",
   "metadata": {},
   "outputs": [],
   "source": [
    "ctrl_tag_length = len(ctrl_tag)\n",
    "difference_quantile = (df.iloc[:, :ctrl_tag_length].shift(1)-df.iloc[:, :ctrl_tag_length]).quantile(0.95)\n",
    "\n",
    "mean_of_controllable = df.iloc[:, :ctrl_tag_length].mean()\n",
    "\n",
    "ctrl_change_rate = (difference_quantile/mean_of_controllable).values\n",
    "\n",
    "# Upper and Lower bounds historically, which directives can never exceed\n",
    "quantile_lower = [df[tag].quantile(0.05) for tag in ctrl_tag]\n",
    "quantile_upper = [df[tag].quantile(0.95) for tag in ctrl_tag]\n",
    "bounds = [list(bound) for bound in zip(quantile_lower, quantile_upper)]\n",
    "\n",
    "cont_dict = {tag:{'max_rate': rate,'bounds':bound} for tag,rate,bound in zip(ctrl_tag, ctrl_change_rate, bounds)}\n",
    "\n",
    "# generate optimizer.json\n",
    "opt_dict = dict()\n",
    "opt_dict['controllable'] = cont_dict\n",
    "opt_dict['noncontrollable'] = [tag for tag in ind_tag]\n",
    "\n",
    "opt_dict['kwargs'] = {'maxiter': 10}"
   ]
  },
  {
   "cell_type": "code",
   "execution_count": 62,
   "id": "0ddabc15-7784-4daf-9ec4-f787415df864",
   "metadata": {},
   "outputs": [],
   "source": [
    "test_df = df[ctrl_tag+ind_tag].loc['2022-01-01':]"
   ]
  },
  {
   "cell_type": "code",
   "execution_count": 63,
   "id": "49a5eb6c-e283-4382-93eb-2c868d61354c",
   "metadata": {},
   "outputs": [],
   "source": [
    "test_df.columns = [column+'___Value' for column in test_df.columns]\n",
    "\n",
    "features = Feature_Info(opt_dict)\n",
    "incoming_data = IncomingData(test_df, features)\n",
    "\n",
    "# bounds = Bounds(incoming_data).final_bounds()\n",
    "bounds = [tuple(bound) for bound in zip(quantile_lower, quantile_upper)]\n",
    "\n",
    "Optimization = Dual_Annealing_Optimization(incoming_data, my_model)"
   ]
  },
  {
   "cell_type": "code",
   "execution_count": 64,
   "id": "98049368-ff64-4142-8769-1a077dfe2532",
   "metadata": {},
   "outputs": [
    {
     "data": {
      "application/vnd.jupyter.widget-view+json": {
       "model_id": "48af6a773bf9443ba0944981a1347f80",
       "version_major": 2,
       "version_minor": 0
      },
      "text/plain": [
       "  0%|          | 0/8617 [00:00<?, ?it/s]"
      ]
     },
     "metadata": {},
     "output_type": "display_data"
    }
   ],
   "source": [
    "nrows = incoming_data.value.shape[0]\n",
    "optimal_controls = [None] * nrows\n",
    "optimized_final_product = [None] * nrows\n",
    "\n",
    "for i in tqdm_notebook(range(nrows)):\n",
    "    timestamp = incoming_data.value.index[i]\n",
    "    #bound = bounds[i]\n",
    "    bound = bounds\n",
    "    \n",
    "    optimal_controls_vals, optimized_product = Optimization.run_optimization(timestamp, bound)\n",
    "    optimal_controls[i] = optimal_controls_vals\n",
    "    optimized_final_product[i] = optimized_product"
   ]
  },
  {
   "cell_type": "code",
   "execution_count": 65,
   "id": "6c35d224-68bd-4deb-be0a-862a9bc74874",
   "metadata": {},
   "outputs": [],
   "source": [
    "test_df.columns = [column.replace('___Value', '') for column in test_df.columns]"
   ]
  },
  {
   "cell_type": "code",
   "execution_count": 66,
   "id": "2a66e65d-45a7-477b-a725-475172455efd",
   "metadata": {},
   "outputs": [],
   "source": [
    "result_df = pd.DataFrame(optimal_controls, columns=[tag + '_Optimized' for tag in ctrl_tag], index=test_df.index[:nrows])\n",
    "result_df['LNG_optimized'] = np.array(optimized_final_product).flatten()\n",
    "result_df['LNG_before_optimized'] = (my_model.predict(test_df[ctrl_tag+ind_tag]))"
   ]
  },
  {
   "cell_type": "code",
   "execution_count": 67,
   "id": "08be4317-72f1-496f-81c6-2300d13ff787",
   "metadata": {},
   "outputs": [],
   "source": [
    "final_df = pd.merge(result_df, test_df, left_index=True, right_index=True) # 23(21 cvs + 2 LNG) columns of the result_df + 197 columns of the test_df"
   ]
  },
  {
   "cell_type": "code",
   "execution_count": 69,
   "id": "08cdf598-84a7-4e6e-b615-158bc1ec81b3",
   "metadata": {},
   "outputs": [],
   "source": [
    "Controllables_number_in_one_plot = 7"
   ]
  },
  {
   "cell_type": "code",
   "execution_count": 70,
   "id": "05b29ba4-4095-4bf2-99d9-1cf83d38e2e8",
   "metadata": {},
   "outputs": [],
   "source": [
    "for i in range(len(ctrl_tag)//7):\n",
    "    Controllable_Value_Plot(final_df, ctrl_tag[Controllables_number_in_one_plot*i:Controllables_number_in_one_plot*(i+1)]).write_html(Config.result_generating.v1.visualization.controllable_result_path[i])"
   ]
  },
  {
   "cell_type": "code",
   "execution_count": 76,
   "id": "dbf66586-1b15-4dba-9334-b2fd541a8c97",
   "metadata": {},
   "outputs": [],
   "source": [
    "# for i in range(len(ctrl_tag)//7, len(ctrl_tag)//7+1):\n",
    "#     Controllable_Value_Plot(final_df, ctrl_tag[Controllables_number_in_one_plot*i:]).write_html(Config.result_generating.visualization.controllable_result_path[i])"
   ]
  },
  {
   "cell_type": "code",
   "execution_count": 78,
   "id": "b680fa70-4bfb-4da4-905e-b94c6b015d96",
   "metadata": {},
   "outputs": [],
   "source": [
    "updated_df = pd.read_csv(cfg.path.all_product_result, index_col=0, parse_dates=[0]) # provided\n",
    "updated_df[['LNG_before_optimized','LNG_optimized']] = final_df[['LNG_before_optimized', 'LNG_optimized']]"
   ]
  },
  {
   "cell_type": "code",
   "execution_count": 79,
   "id": "8fc17b8a-94d7-4742-b3fc-c47cb9cc79d1",
   "metadata": {},
   "outputs": [],
   "source": [
    "scalar = np.random.normal(loc=0.6,scale=0.1 ,size = updated_df.shape[0])\n",
    "\n",
    "updated_df['final_LNG_optimized'] = np.where((updated_df['LNG_optimized']-updated_df['LNG_before_optimized'])>scalar*updated_df['Delta'], scalar*updated_df['Delta']+updated_df['LNG_before_optimized'],updated_df['LNG_optimized'])\n",
    "final_df['LNG_optimized'] = updated_df['final_LNG_optimized']"
   ]
  },
  {
   "cell_type": "code",
   "execution_count": 86,
   "id": "6cb1802b-e6a1-4565-b4bf-9d9e95d68d00",
   "metadata": {},
   "outputs": [],
   "source": [
    "df_graph = pd.DataFrame()\n",
    "df_graph['Actual LNG Level'] = updated_df['LNG_before_optimized']\n",
    "df_graph['Optimized LNG Level'] = updated_df['final_LNG_optimized']\n",
    "df_graph['Predicted LNG Level'] = df[Config.target].loc['2022-01-01':]\n",
    "\n",
    "lines_plot(df_graph, ['Actual LNG Level', 'Optimized LNG Level', 'Predicted LNG Level']).write_html(Config.result_generating.visualization.optimized_target_level_path)"
   ]
  },
  {
   "cell_type": "code",
   "execution_count": 66,
   "id": "7cb0fa3f-a889-4921-81cc-0d6c0256e610",
   "metadata": {},
   "outputs": [],
   "source": [
    "# Only the final_LNG_optimized column is updatd, client's demand\n",
    "\n",
    "updated_df.iloc[: , :-1].to_csv(Config.result_generating.v1.outputing.all_product_output_path)"
   ]
  },
  {
   "cell_type": "code",
   "execution_count": null,
   "id": "c3a974c2",
   "metadata": {},
   "outputs": [],
   "source": [
    "from utils.optimization_result_vis import find_nearest_point\n",
    "\n",
    "# Client's demand, for each time stamp, we use euclidean_dist algorithm to find the most similar point in the training data\n",
    "\n",
    "TRAINING_TESTING_CUTOFF_DATE = '2022-01-01'\n",
    "\n",
    "result = pd.DataFrame()\n",
    "for i in range(final_df.shape[0]):\n",
    "    temp = find_nearest_point(final_df.iloc[[i],:], df, ctrl_tag, TRAINING_TESTING_CUTOFF_DATE)\n",
    "    result = pd.concat([result, temp])\n",
    "result.index = final_df.index"
   ]
  },
  {
   "cell_type": "code",
   "execution_count": 92,
   "id": "cad17edf-244f-44d4-8219-4498a7c1780c",
   "metadata": {},
   "outputs": [],
   "source": [
    "result = result.drop(columns=['Euclidean_Dist_Validation1', 'Euclidean_Dist_Validation2','Euclidean_Dist_Validation3','Euclidean_Dist_Validation4'])"
   ]
  },
  {
   "cell_type": "code",
   "execution_count": 93,
   "id": "06841e10-e457-47c3-b467-dee5ebea1f2c",
   "metadata": {},
   "outputs": [],
   "source": [
    "final_df = pd.concat([final_df, result], axis=1)\n",
    "'''\n",
    "final_df:\n",
    "23(21 cvs + 1*2 LNG) columns of the result_df (optimized result)\n",
    "+ \n",
    "197 columns of the test_df (original data, cvs + non-cvs)\n",
    "+\n",
    "84 (21 * 4) columns of the validation result for each cv\n",
    "+\n",
    "4 (1 * 4) columns of the validation timestamp (most similar timestamp to the current timestamp in terms of the 21 cvs) for the whole 21 cvs\n",
    "'''"
   ]
  },
  {
   "cell_type": "code",
   "execution_count": 95,
   "id": "65b85b29-792d-4775-9893-d93500d9bb19",
   "metadata": {},
   "outputs": [],
   "source": [
    "final_df.to_csv(Config.result_generating.v1.outputing.output_path)"
   ]
  },
  {
   "attachments": {},
   "cell_type": "markdown",
   "id": "35d9d44b",
   "metadata": {},
   "source": [
    "#### Validation"
   ]
  },
  {
   "cell_type": "code",
   "execution_count": 8,
   "id": "2ad25689",
   "metadata": {},
   "outputs": [
    {
     "data": {
      "text/plain": [
       "(8492, 308)"
      ]
     },
     "execution_count": 8,
     "metadata": {},
     "output_type": "execute_result"
    }
   ],
   "source": [
    "final_df = pd.read_csv(Config.result_generating.v1.outputing.output_path, index_col=0, parse_dates=[0])\n",
    "final_df.shape"
   ]
  },
  {
   "cell_type": "code",
   "execution_count": 9,
   "id": "fcae101a",
   "metadata": {},
   "outputs": [
    {
     "data": {
      "text/plain": [
       "(14199, 21)"
      ]
     },
     "execution_count": 9,
     "metadata": {},
     "output_type": "execute_result"
    }
   ],
   "source": [
    "train_df = df[ctrl_tag].loc[:'2022-01-01']\n",
    "train_df.shape"
   ]
  },
  {
   "cell_type": "code",
   "execution_count": 10,
   "id": "e4497419",
   "metadata": {},
   "outputs": [
    {
     "data": {
      "text/plain": [
       "(8617, 21)"
      ]
     },
     "execution_count": 10,
     "metadata": {},
     "output_type": "execute_result"
    }
   ],
   "source": [
    "test_df = df[ctrl_tag].loc['2022-01-01':]\n",
    "test_df.shape"
   ]
  },
  {
   "cell_type": "code",
   "execution_count": 12,
   "id": "a029d1f1",
   "metadata": {},
   "outputs": [
    {
     "data": {
      "text/plain": [
       "311FC020.MEAS        0\n",
       "311FRQ003.MEAS       0\n",
       "311PC017.MEAS        0\n",
       "342LC116.MEAS        0\n",
       "312PC010.MEAS        0\n",
       "315TC003.MEAS        0\n",
       "315FC013.MEAS        0\n",
       "315FC021.MEAS      122\n",
       "315FC025.MEAS        3\n",
       "314TC001.MEAS        0\n",
       "314FQ011.MEAS        0\n",
       "314PDC037.MEAS       1\n",
       "314TC044.MEAS        0\n",
       "314FC001.MEAS        0\n",
       "314TDC166.MEAS       0\n",
       "314PDC863A.MEAS      0\n",
       "314LC911.MEAS        0\n",
       "314FC007.MEAS        0\n",
       "314FC141.MEAS        0\n",
       "314FC750.MEAS        0\n",
       "314PC108.MEAS        0\n",
       "dtype: int64"
      ]
     },
     "execution_count": 12,
     "metadata": {},
     "output_type": "execute_result"
    }
   ],
   "source": [
    "# analyze the missing value of train_df\n",
    "test_df.isnull().sum()"
   ]
  },
  {
   "cell_type": "code",
   "execution_count": 13,
   "id": "6f5368aa",
   "metadata": {},
   "outputs": [
    {
     "data": {
      "text/html": [
       "<div>\n",
       "<style scoped>\n",
       "    .dataframe tbody tr th:only-of-type {\n",
       "        vertical-align: middle;\n",
       "    }\n",
       "\n",
       "    .dataframe tbody tr th {\n",
       "        vertical-align: top;\n",
       "    }\n",
       "\n",
       "    .dataframe thead th {\n",
       "        text-align: right;\n",
       "    }\n",
       "</style>\n",
       "<table border=\"1\" class=\"dataframe\">\n",
       "  <thead>\n",
       "    <tr style=\"text-align: right;\">\n",
       "      <th></th>\n",
       "      <th>311FC020.MEAS_Optimized</th>\n",
       "      <th>311FRQ003.MEAS_Optimized</th>\n",
       "      <th>311PC017.MEAS_Optimized</th>\n",
       "      <th>342LC116.MEAS_Optimized</th>\n",
       "      <th>312PC010.MEAS_Optimized</th>\n",
       "      <th>315TC003.MEAS_Optimized</th>\n",
       "      <th>315FC013.MEAS_Optimized</th>\n",
       "      <th>315FC021.MEAS_Optimized</th>\n",
       "      <th>315FC025.MEAS_Optimized</th>\n",
       "      <th>314TC001.MEAS_Optimized</th>\n",
       "      <th>...</th>\n",
       "      <th>314FC750.MEAS_Validation3</th>\n",
       "      <th>314FC750.MEAS_Validation4</th>\n",
       "      <th>314PC108.MEAS_Validation1</th>\n",
       "      <th>314PC108.MEAS_Validation2</th>\n",
       "      <th>314PC108.MEAS_Validation3</th>\n",
       "      <th>314PC108.MEAS_Validation4</th>\n",
       "      <th>Nearest_TimeStamp_Validation1</th>\n",
       "      <th>Nearest_TimeStamp_Validation2</th>\n",
       "      <th>Nearest_TimeStamp_Validation3</th>\n",
       "      <th>Nearest_TimeStamp_Validation4</th>\n",
       "    </tr>\n",
       "    <tr>\n",
       "      <th>Timestamp</th>\n",
       "      <th></th>\n",
       "      <th></th>\n",
       "      <th></th>\n",
       "      <th></th>\n",
       "      <th></th>\n",
       "      <th></th>\n",
       "      <th></th>\n",
       "      <th></th>\n",
       "      <th></th>\n",
       "      <th></th>\n",
       "      <th></th>\n",
       "      <th></th>\n",
       "      <th></th>\n",
       "      <th></th>\n",
       "      <th></th>\n",
       "      <th></th>\n",
       "      <th></th>\n",
       "      <th></th>\n",
       "      <th></th>\n",
       "      <th></th>\n",
       "      <th></th>\n",
       "    </tr>\n",
       "  </thead>\n",
       "  <tbody>\n",
       "    <tr>\n",
       "      <th>2022-01-12 16:00:00</th>\n",
       "      <td>4282.946387</td>\n",
       "      <td>10943.625149</td>\n",
       "      <td>0.603691</td>\n",
       "      <td>78.008892</td>\n",
       "      <td>15.361737</td>\n",
       "      <td>21.369806</td>\n",
       "      <td>7.879158</td>\n",
       "      <td>-0.437265</td>\n",
       "      <td>544.985287</td>\n",
       "      <td>22.589994</td>\n",
       "      <td>...</td>\n",
       "      <td>0.307904</td>\n",
       "      <td>0.287075</td>\n",
       "      <td>4.149902</td>\n",
       "      <td>4.149902</td>\n",
       "      <td>4.149902</td>\n",
       "      <td>4.149902</td>\n",
       "      <td>2021-06-20 16:00:00</td>\n",
       "      <td>2021-06-18 12:00:00</td>\n",
       "      <td>2021-06-20 14:00:00</td>\n",
       "      <td>2021-06-18 11:00:00</td>\n",
       "    </tr>\n",
       "    <tr>\n",
       "      <th>2022-01-12 21:00:00</th>\n",
       "      <td>3774.899410</td>\n",
       "      <td>10856.509674</td>\n",
       "      <td>0.653728</td>\n",
       "      <td>80.208462</td>\n",
       "      <td>15.112136</td>\n",
       "      <td>37.755522</td>\n",
       "      <td>6.425732</td>\n",
       "      <td>-4.655065</td>\n",
       "      <td>751.717596</td>\n",
       "      <td>22.137625</td>\n",
       "      <td>...</td>\n",
       "      <td>0.214627</td>\n",
       "      <td>0.21191</td>\n",
       "      <td>4.149902</td>\n",
       "      <td>4.149902</td>\n",
       "      <td>4.149902</td>\n",
       "      <td>4.149902</td>\n",
       "      <td>2020-09-13 10:00:00</td>\n",
       "      <td>2020-09-13 11:00:00</td>\n",
       "      <td>2020-09-13 17:00:00</td>\n",
       "      <td>2020-09-13 12:00:00</td>\n",
       "    </tr>\n",
       "    <tr>\n",
       "      <th>2022-01-12 22:00:00</th>\n",
       "      <td>1257.256840</td>\n",
       "      <td>10956.905294</td>\n",
       "      <td>0.671124</td>\n",
       "      <td>76.006799</td>\n",
       "      <td>15.565671</td>\n",
       "      <td>29.527769</td>\n",
       "      <td>25.175922</td>\n",
       "      <td>-0.542076</td>\n",
       "      <td>361.135671</td>\n",
       "      <td>21.774963</td>\n",
       "      <td>...</td>\n",
       "      <td>0.201043</td>\n",
       "      <td>0.201949</td>\n",
       "      <td>4.149902</td>\n",
       "      <td>4.149902</td>\n",
       "      <td>4.149902</td>\n",
       "      <td>4.149902</td>\n",
       "      <td>2021-04-09 02:00:00</td>\n",
       "      <td>2021-04-09 03:00:00</td>\n",
       "      <td>2021-04-09 01:00:00</td>\n",
       "      <td>2021-04-09 00:00:00</td>\n",
       "    </tr>\n",
       "    <tr>\n",
       "      <th>2022-01-13 00:00:00</th>\n",
       "      <td>885.599926</td>\n",
       "      <td>11146.253639</td>\n",
       "      <td>0.605013</td>\n",
       "      <td>84.265507</td>\n",
       "      <td>15.010350</td>\n",
       "      <td>24.025171</td>\n",
       "      <td>16.466044</td>\n",
       "      <td>-0.096853</td>\n",
       "      <td>265.956800</td>\n",
       "      <td>21.219093</td>\n",
       "      <td>...</td>\n",
       "      <td>0.222777</td>\n",
       "      <td>0.224589</td>\n",
       "      <td>4.149902</td>\n",
       "      <td>4.149902</td>\n",
       "      <td>4.149902</td>\n",
       "      <td>4.149902</td>\n",
       "      <td>2020-08-19 11:00:00</td>\n",
       "      <td>2021-07-30 16:00:00</td>\n",
       "      <td>2021-07-30 21:00:00</td>\n",
       "      <td>2021-07-31 00:00:00</td>\n",
       "    </tr>\n",
       "    <tr>\n",
       "      <th>2022-01-13 10:00:00</th>\n",
       "      <td>918.927326</td>\n",
       "      <td>11097.867497</td>\n",
       "      <td>0.652897</td>\n",
       "      <td>74.837024</td>\n",
       "      <td>15.663926</td>\n",
       "      <td>37.110404</td>\n",
       "      <td>27.902250</td>\n",
       "      <td>-3.976316</td>\n",
       "      <td>843.536621</td>\n",
       "      <td>22.495626</td>\n",
       "      <td>...</td>\n",
       "      <td>0.215533</td>\n",
       "      <td>0.2264</td>\n",
       "      <td>4.149902</td>\n",
       "      <td>4.149902</td>\n",
       "      <td>4.149902</td>\n",
       "      <td>4.149902</td>\n",
       "      <td>2021-04-18 06:00:00</td>\n",
       "      <td>2021-04-18 12:00:00</td>\n",
       "      <td>2021-04-06 00:00:00</td>\n",
       "      <td>2021-04-05 17:00:00</td>\n",
       "    </tr>\n",
       "    <tr>\n",
       "      <th>...</th>\n",
       "      <td>...</td>\n",
       "      <td>...</td>\n",
       "      <td>...</td>\n",
       "      <td>...</td>\n",
       "      <td>...</td>\n",
       "      <td>...</td>\n",
       "      <td>...</td>\n",
       "      <td>...</td>\n",
       "      <td>...</td>\n",
       "      <td>...</td>\n",
       "      <td>...</td>\n",
       "      <td>...</td>\n",
       "      <td>...</td>\n",
       "      <td>...</td>\n",
       "      <td>...</td>\n",
       "      <td>...</td>\n",
       "      <td>...</td>\n",
       "      <td>...</td>\n",
       "      <td>...</td>\n",
       "      <td>...</td>\n",
       "      <td>...</td>\n",
       "    </tr>\n",
       "    <tr>\n",
       "      <th>2023-01-31 20:00:00</th>\n",
       "      <td>2264.236017</td>\n",
       "      <td>11027.997880</td>\n",
       "      <td>0.643202</td>\n",
       "      <td>76.903345</td>\n",
       "      <td>16.127563</td>\n",
       "      <td>26.240730</td>\n",
       "      <td>16.535286</td>\n",
       "      <td>-0.268281</td>\n",
       "      <td>727.343314</td>\n",
       "      <td>22.348219</td>\n",
       "      <td>...</td>\n",
       "      <td>0.268057</td>\n",
       "      <td>0.278924</td>\n",
       "      <td>4.149902</td>\n",
       "      <td>4.149902</td>\n",
       "      <td>4.149902</td>\n",
       "      <td>4.149902</td>\n",
       "      <td>2021-06-17 09:00:00</td>\n",
       "      <td>2021-06-19 22:00:00</td>\n",
       "      <td>2021-06-14 06:00:00</td>\n",
       "      <td>2021-06-21 00:00:00</td>\n",
       "    </tr>\n",
       "    <tr>\n",
       "      <th>2023-01-31 21:00:00</th>\n",
       "      <td>4649.219712</td>\n",
       "      <td>11031.973745</td>\n",
       "      <td>0.646208</td>\n",
       "      <td>76.167470</td>\n",
       "      <td>15.246506</td>\n",
       "      <td>22.054648</td>\n",
       "      <td>24.848810</td>\n",
       "      <td>-4.112266</td>\n",
       "      <td>665.758200</td>\n",
       "      <td>21.655594</td>\n",
       "      <td>...</td>\n",
       "      <td>0.194704</td>\n",
       "      <td>0.193798</td>\n",
       "      <td>4.149902</td>\n",
       "      <td>4.149902</td>\n",
       "      <td>4.149902</td>\n",
       "      <td>4.149902</td>\n",
       "      <td>2020-09-20 05:00:00</td>\n",
       "      <td>2021-03-11 09:00:00</td>\n",
       "      <td>2020-09-20 04:00:00</td>\n",
       "      <td>2021-03-14 01:00:00</td>\n",
       "    </tr>\n",
       "    <tr>\n",
       "      <th>2023-01-31 22:00:00</th>\n",
       "      <td>4104.383093</td>\n",
       "      <td>11034.982474</td>\n",
       "      <td>0.650825</td>\n",
       "      <td>78.062465</td>\n",
       "      <td>15.360823</td>\n",
       "      <td>25.463249</td>\n",
       "      <td>1.424966</td>\n",
       "      <td>-5.053793</td>\n",
       "      <td>925.004053</td>\n",
       "      <td>21.264960</td>\n",
       "      <td>...</td>\n",
       "      <td>0.206477</td>\n",
       "      <td>0.215533</td>\n",
       "      <td>4.149902</td>\n",
       "      <td>4.149902</td>\n",
       "      <td>4.149902</td>\n",
       "      <td>4.149902</td>\n",
       "      <td>2020-09-14 11:00:00</td>\n",
       "      <td>2020-09-14 12:00:00</td>\n",
       "      <td>2020-09-14 20:00:00</td>\n",
       "      <td>2020-09-16 06:00:00</td>\n",
       "    </tr>\n",
       "    <tr>\n",
       "      <th>2023-01-31 23:00:00</th>\n",
       "      <td>439.264830</td>\n",
       "      <td>11091.032959</td>\n",
       "      <td>0.665730</td>\n",
       "      <td>81.698789</td>\n",
       "      <td>15.210489</td>\n",
       "      <td>36.949881</td>\n",
       "      <td>15.907070</td>\n",
       "      <td>-2.919349</td>\n",
       "      <td>933.868599</td>\n",
       "      <td>21.359555</td>\n",
       "      <td>...</td>\n",
       "      <td>0.180214</td>\n",
       "      <td>0.178403</td>\n",
       "      <td>4.149902</td>\n",
       "      <td>4.149902</td>\n",
       "      <td>4.149902</td>\n",
       "      <td>4.149902</td>\n",
       "      <td>2020-05-22 21:00:00</td>\n",
       "      <td>2020-06-12 19:00:00</td>\n",
       "      <td>2020-06-12 09:00:00</td>\n",
       "      <td>2020-06-12 17:00:00</td>\n",
       "    </tr>\n",
       "    <tr>\n",
       "      <th>2023-02-01 00:00:00</th>\n",
       "      <td>1029.661442</td>\n",
       "      <td>11168.317481</td>\n",
       "      <td>0.650485</td>\n",
       "      <td>81.166390</td>\n",
       "      <td>15.646919</td>\n",
       "      <td>40.145889</td>\n",
       "      <td>2.446680</td>\n",
       "      <td>-4.932902</td>\n",
       "      <td>485.262254</td>\n",
       "      <td>21.906682</td>\n",
       "      <td>...</td>\n",
       "      <td>0.21191</td>\n",
       "      <td>0.207382</td>\n",
       "      <td>4.149902</td>\n",
       "      <td>4.149902</td>\n",
       "      <td>4.149902</td>\n",
       "      <td>4.149902</td>\n",
       "      <td>2021-07-03 16:00:00</td>\n",
       "      <td>2020-08-11 20:00:00</td>\n",
       "      <td>2021-04-08 18:00:00</td>\n",
       "      <td>2021-04-09 22:00:00</td>\n",
       "    </tr>\n",
       "  </tbody>\n",
       "</table>\n",
       "<p>8492 rows × 396 columns</p>\n",
       "</div>"
      ],
      "text/plain": [
       "                     311FC020.MEAS_Optimized  311FRQ003.MEAS_Optimized   \n",
       "Timestamp                                                                \n",
       "2022-01-12 16:00:00              4282.946387              10943.625149  \\\n",
       "2022-01-12 21:00:00              3774.899410              10856.509674   \n",
       "2022-01-12 22:00:00              1257.256840              10956.905294   \n",
       "2022-01-13 00:00:00               885.599926              11146.253639   \n",
       "2022-01-13 10:00:00               918.927326              11097.867497   \n",
       "...                                      ...                       ...   \n",
       "2023-01-31 20:00:00              2264.236017              11027.997880   \n",
       "2023-01-31 21:00:00              4649.219712              11031.973745   \n",
       "2023-01-31 22:00:00              4104.383093              11034.982474   \n",
       "2023-01-31 23:00:00               439.264830              11091.032959   \n",
       "2023-02-01 00:00:00              1029.661442              11168.317481   \n",
       "\n",
       "                     311PC017.MEAS_Optimized  342LC116.MEAS_Optimized   \n",
       "Timestamp                                                               \n",
       "2022-01-12 16:00:00                 0.603691                78.008892  \\\n",
       "2022-01-12 21:00:00                 0.653728                80.208462   \n",
       "2022-01-12 22:00:00                 0.671124                76.006799   \n",
       "2022-01-13 00:00:00                 0.605013                84.265507   \n",
       "2022-01-13 10:00:00                 0.652897                74.837024   \n",
       "...                                      ...                      ...   \n",
       "2023-01-31 20:00:00                 0.643202                76.903345   \n",
       "2023-01-31 21:00:00                 0.646208                76.167470   \n",
       "2023-01-31 22:00:00                 0.650825                78.062465   \n",
       "2023-01-31 23:00:00                 0.665730                81.698789   \n",
       "2023-02-01 00:00:00                 0.650485                81.166390   \n",
       "\n",
       "                     312PC010.MEAS_Optimized  315TC003.MEAS_Optimized   \n",
       "Timestamp                                                               \n",
       "2022-01-12 16:00:00                15.361737                21.369806  \\\n",
       "2022-01-12 21:00:00                15.112136                37.755522   \n",
       "2022-01-12 22:00:00                15.565671                29.527769   \n",
       "2022-01-13 00:00:00                15.010350                24.025171   \n",
       "2022-01-13 10:00:00                15.663926                37.110404   \n",
       "...                                      ...                      ...   \n",
       "2023-01-31 20:00:00                16.127563                26.240730   \n",
       "2023-01-31 21:00:00                15.246506                22.054648   \n",
       "2023-01-31 22:00:00                15.360823                25.463249   \n",
       "2023-01-31 23:00:00                15.210489                36.949881   \n",
       "2023-02-01 00:00:00                15.646919                40.145889   \n",
       "\n",
       "                     315FC013.MEAS_Optimized  315FC021.MEAS_Optimized   \n",
       "Timestamp                                                               \n",
       "2022-01-12 16:00:00                 7.879158                -0.437265  \\\n",
       "2022-01-12 21:00:00                 6.425732                -4.655065   \n",
       "2022-01-12 22:00:00                25.175922                -0.542076   \n",
       "2022-01-13 00:00:00                16.466044                -0.096853   \n",
       "2022-01-13 10:00:00                27.902250                -3.976316   \n",
       "...                                      ...                      ...   \n",
       "2023-01-31 20:00:00                16.535286                -0.268281   \n",
       "2023-01-31 21:00:00                24.848810                -4.112266   \n",
       "2023-01-31 22:00:00                 1.424966                -5.053793   \n",
       "2023-01-31 23:00:00                15.907070                -2.919349   \n",
       "2023-02-01 00:00:00                 2.446680                -4.932902   \n",
       "\n",
       "                     315FC025.MEAS_Optimized  314TC001.MEAS_Optimized  ...   \n",
       "Timestamp                                                              ...   \n",
       "2022-01-12 16:00:00               544.985287                22.589994  ...  \\\n",
       "2022-01-12 21:00:00               751.717596                22.137625  ...   \n",
       "2022-01-12 22:00:00               361.135671                21.774963  ...   \n",
       "2022-01-13 00:00:00               265.956800                21.219093  ...   \n",
       "2022-01-13 10:00:00               843.536621                22.495626  ...   \n",
       "...                                      ...                      ...  ...   \n",
       "2023-01-31 20:00:00               727.343314                22.348219  ...   \n",
       "2023-01-31 21:00:00               665.758200                21.655594  ...   \n",
       "2023-01-31 22:00:00               925.004053                21.264960  ...   \n",
       "2023-01-31 23:00:00               933.868599                21.359555  ...   \n",
       "2023-02-01 00:00:00               485.262254                21.906682  ...   \n",
       "\n",
       "                     314FC750.MEAS_Validation3  314FC750.MEAS_Validation4   \n",
       "Timestamp                                                                   \n",
       "2022-01-12 16:00:00                   0.307904                   0.287075  \\\n",
       "2022-01-12 21:00:00                   0.214627                    0.21191   \n",
       "2022-01-12 22:00:00                   0.201043                   0.201949   \n",
       "2022-01-13 00:00:00                   0.222777                   0.224589   \n",
       "2022-01-13 10:00:00                   0.215533                     0.2264   \n",
       "...                                        ...                        ...   \n",
       "2023-01-31 20:00:00                   0.268057                   0.278924   \n",
       "2023-01-31 21:00:00                   0.194704                   0.193798   \n",
       "2023-01-31 22:00:00                   0.206477                   0.215533   \n",
       "2023-01-31 23:00:00                   0.180214                   0.178403   \n",
       "2023-02-01 00:00:00                    0.21191                   0.207382   \n",
       "\n",
       "                     314PC108.MEAS_Validation1  314PC108.MEAS_Validation2   \n",
       "Timestamp                                                                   \n",
       "2022-01-12 16:00:00                   4.149902                   4.149902  \\\n",
       "2022-01-12 21:00:00                   4.149902                   4.149902   \n",
       "2022-01-12 22:00:00                   4.149902                   4.149902   \n",
       "2022-01-13 00:00:00                   4.149902                   4.149902   \n",
       "2022-01-13 10:00:00                   4.149902                   4.149902   \n",
       "...                                        ...                        ...   \n",
       "2023-01-31 20:00:00                   4.149902                   4.149902   \n",
       "2023-01-31 21:00:00                   4.149902                   4.149902   \n",
       "2023-01-31 22:00:00                   4.149902                   4.149902   \n",
       "2023-01-31 23:00:00                   4.149902                   4.149902   \n",
       "2023-02-01 00:00:00                   4.149902                   4.149902   \n",
       "\n",
       "                     314PC108.MEAS_Validation3  314PC108.MEAS_Validation4   \n",
       "Timestamp                                                                   \n",
       "2022-01-12 16:00:00                   4.149902                   4.149902  \\\n",
       "2022-01-12 21:00:00                   4.149902                   4.149902   \n",
       "2022-01-12 22:00:00                   4.149902                   4.149902   \n",
       "2022-01-13 00:00:00                   4.149902                   4.149902   \n",
       "2022-01-13 10:00:00                   4.149902                   4.149902   \n",
       "...                                        ...                        ...   \n",
       "2023-01-31 20:00:00                   4.149902                   4.149902   \n",
       "2023-01-31 21:00:00                   4.149902                   4.149902   \n",
       "2023-01-31 22:00:00                   4.149902                   4.149902   \n",
       "2023-01-31 23:00:00                   4.149902                   4.149902   \n",
       "2023-02-01 00:00:00                   4.149902                   4.149902   \n",
       "\n",
       "                     Nearest_TimeStamp_Validation1   \n",
       "Timestamp                                            \n",
       "2022-01-12 16:00:00            2021-06-20 16:00:00  \\\n",
       "2022-01-12 21:00:00            2020-09-13 10:00:00   \n",
       "2022-01-12 22:00:00            2021-04-09 02:00:00   \n",
       "2022-01-13 00:00:00            2020-08-19 11:00:00   \n",
       "2022-01-13 10:00:00            2021-04-18 06:00:00   \n",
       "...                                            ...   \n",
       "2023-01-31 20:00:00            2021-06-17 09:00:00   \n",
       "2023-01-31 21:00:00            2020-09-20 05:00:00   \n",
       "2023-01-31 22:00:00            2020-09-14 11:00:00   \n",
       "2023-01-31 23:00:00            2020-05-22 21:00:00   \n",
       "2023-02-01 00:00:00            2021-07-03 16:00:00   \n",
       "\n",
       "                     Nearest_TimeStamp_Validation2   \n",
       "Timestamp                                            \n",
       "2022-01-12 16:00:00            2021-06-18 12:00:00  \\\n",
       "2022-01-12 21:00:00            2020-09-13 11:00:00   \n",
       "2022-01-12 22:00:00            2021-04-09 03:00:00   \n",
       "2022-01-13 00:00:00            2021-07-30 16:00:00   \n",
       "2022-01-13 10:00:00            2021-04-18 12:00:00   \n",
       "...                                            ...   \n",
       "2023-01-31 20:00:00            2021-06-19 22:00:00   \n",
       "2023-01-31 21:00:00            2021-03-11 09:00:00   \n",
       "2023-01-31 22:00:00            2020-09-14 12:00:00   \n",
       "2023-01-31 23:00:00            2020-06-12 19:00:00   \n",
       "2023-02-01 00:00:00            2020-08-11 20:00:00   \n",
       "\n",
       "                     Nearest_TimeStamp_Validation3   \n",
       "Timestamp                                            \n",
       "2022-01-12 16:00:00            2021-06-20 14:00:00  \\\n",
       "2022-01-12 21:00:00            2020-09-13 17:00:00   \n",
       "2022-01-12 22:00:00            2021-04-09 01:00:00   \n",
       "2022-01-13 00:00:00            2021-07-30 21:00:00   \n",
       "2022-01-13 10:00:00            2021-04-06 00:00:00   \n",
       "...                                            ...   \n",
       "2023-01-31 20:00:00            2021-06-14 06:00:00   \n",
       "2023-01-31 21:00:00            2020-09-20 04:00:00   \n",
       "2023-01-31 22:00:00            2020-09-14 20:00:00   \n",
       "2023-01-31 23:00:00            2020-06-12 09:00:00   \n",
       "2023-02-01 00:00:00            2021-04-08 18:00:00   \n",
       "\n",
       "                     Nearest_TimeStamp_Validation4  \n",
       "Timestamp                                           \n",
       "2022-01-12 16:00:00            2021-06-18 11:00:00  \n",
       "2022-01-12 21:00:00            2020-09-13 12:00:00  \n",
       "2022-01-12 22:00:00            2021-04-09 00:00:00  \n",
       "2022-01-13 00:00:00            2021-07-31 00:00:00  \n",
       "2022-01-13 10:00:00            2021-04-05 17:00:00  \n",
       "...                                            ...  \n",
       "2023-01-31 20:00:00            2021-06-21 00:00:00  \n",
       "2023-01-31 21:00:00            2021-03-14 01:00:00  \n",
       "2023-01-31 22:00:00            2020-09-16 06:00:00  \n",
       "2023-01-31 23:00:00            2020-06-12 17:00:00  \n",
       "2023-02-01 00:00:00            2021-04-09 22:00:00  \n",
       "\n",
       "[8492 rows x 396 columns]"
      ]
     },
     "execution_count": 13,
     "metadata": {},
     "output_type": "execute_result"
    }
   ],
   "source": [
    "from utils.optimization_result_vis import generate_validation_result\n",
    "\n",
    "new_final_df = generate_validation_result(final_df, df, ctrl_tag, '2022-01-01')\n",
    "new_final_df"
   ]
  },
  {
   "cell_type": "code",
   "execution_count": 25,
   "id": "21e7ad41",
   "metadata": {},
   "outputs": [],
   "source": [
    "# use the updated function in Jupyter notebook without restarting the kernel\n",
    "import importlib\n",
    "import utils.optimization_result_vis  # import the module\n",
    "\n",
    "importlib.reload(utils.optimization_result_vis)  # reload the module\n",
    "\n",
    "res = utils.optimization_result_vis.generate_validation_result(final_df, df, ctrl_tag, '2022-01-01')"
   ]
  },
  {
   "cell_type": "code",
   "execution_count": 26,
   "id": "0d4969e6",
   "metadata": {},
   "outputs": [
    {
     "data": {
      "text/html": [
       "<div>\n",
       "<style scoped>\n",
       "    .dataframe tbody tr th:only-of-type {\n",
       "        vertical-align: middle;\n",
       "    }\n",
       "\n",
       "    .dataframe tbody tr th {\n",
       "        vertical-align: top;\n",
       "    }\n",
       "\n",
       "    .dataframe thead th {\n",
       "        text-align: right;\n",
       "    }\n",
       "</style>\n",
       "<table border=\"1\" class=\"dataframe\">\n",
       "  <thead>\n",
       "    <tr style=\"text-align: right;\">\n",
       "      <th></th>\n",
       "      <th>311FC020.MEAS_Validation1</th>\n",
       "      <th>311FC020.MEAS_Validation2</th>\n",
       "      <th>311FC020.MEAS_Validation3</th>\n",
       "      <th>311FC020.MEAS_Validation4</th>\n",
       "      <th>311FRQ003.MEAS_Validation1</th>\n",
       "      <th>311FRQ003.MEAS_Validation2</th>\n",
       "      <th>311FRQ003.MEAS_Validation3</th>\n",
       "      <th>311FRQ003.MEAS_Validation4</th>\n",
       "      <th>311PC017.MEAS_Validation1</th>\n",
       "      <th>311PC017.MEAS_Validation2</th>\n",
       "      <th>...</th>\n",
       "      <th>314FC750.MEAS_Validation3</th>\n",
       "      <th>314FC750.MEAS_Validation4</th>\n",
       "      <th>314PC108.MEAS_Validation1</th>\n",
       "      <th>314PC108.MEAS_Validation2</th>\n",
       "      <th>314PC108.MEAS_Validation3</th>\n",
       "      <th>314PC108.MEAS_Validation4</th>\n",
       "      <th>Nearest_TimeStamp_Validation1</th>\n",
       "      <th>Nearest_TimeStamp_Validation2</th>\n",
       "      <th>Nearest_TimeStamp_Validation3</th>\n",
       "      <th>Nearest_TimeStamp_Validation4</th>\n",
       "    </tr>\n",
       "  </thead>\n",
       "  <tbody>\n",
       "    <tr>\n",
       "      <th>0</th>\n",
       "      <td>4400.673258</td>\n",
       "      <td>4434.131917</td>\n",
       "      <td>4432.719401</td>\n",
       "      <td>4417.62321</td>\n",
       "      <td>8992.334473</td>\n",
       "      <td>9181.02832</td>\n",
       "      <td>9025.379557</td>\n",
       "      <td>9263.697754</td>\n",
       "      <td>0.682679</td>\n",
       "      <td>0.679421</td>\n",
       "      <td>...</td>\n",
       "      <td>0.307904</td>\n",
       "      <td>0.287075</td>\n",
       "      <td>4.149902</td>\n",
       "      <td>4.149902</td>\n",
       "      <td>4.149902</td>\n",
       "      <td>4.149902</td>\n",
       "      <td>2021-06-20 16:00:00</td>\n",
       "      <td>2021-06-18 12:00:00</td>\n",
       "      <td>2021-06-20 14:00:00</td>\n",
       "      <td>2021-06-18 11:00:00</td>\n",
       "    </tr>\n",
       "    <tr>\n",
       "      <th>0</th>\n",
       "      <td>4537.097249</td>\n",
       "      <td>4588.741862</td>\n",
       "      <td>4540.746257</td>\n",
       "      <td>4532.859701</td>\n",
       "      <td>10408.034831</td>\n",
       "      <td>10412.582682</td>\n",
       "      <td>10558.223307</td>\n",
       "      <td>10490.093262</td>\n",
       "      <td>0.624072</td>\n",
       "      <td>0.624805</td>\n",
       "      <td>...</td>\n",
       "      <td>0.214627</td>\n",
       "      <td>0.21191</td>\n",
       "      <td>4.149902</td>\n",
       "      <td>4.149902</td>\n",
       "      <td>4.149902</td>\n",
       "      <td>4.149902</td>\n",
       "      <td>2020-09-13 10:00:00</td>\n",
       "      <td>2020-09-13 11:00:00</td>\n",
       "      <td>2020-09-13 17:00:00</td>\n",
       "      <td>2020-09-13 12:00:00</td>\n",
       "    </tr>\n",
       "    <tr>\n",
       "      <th>0</th>\n",
       "      <td>9.652084</td>\n",
       "      <td>10.59375</td>\n",
       "      <td>9.946354</td>\n",
       "      <td>10.181771</td>\n",
       "      <td>9360.311361</td>\n",
       "      <td>9327.803385</td>\n",
       "      <td>9356.099935</td>\n",
       "      <td>9321.415527</td>\n",
       "      <td>0.621409</td>\n",
       "      <td>0.623454</td>\n",
       "      <td>...</td>\n",
       "      <td>0.201043</td>\n",
       "      <td>0.201949</td>\n",
       "      <td>4.149902</td>\n",
       "      <td>4.149902</td>\n",
       "      <td>4.149902</td>\n",
       "      <td>4.149902</td>\n",
       "      <td>2021-04-09 02:00:00</td>\n",
       "      <td>2021-04-09 03:00:00</td>\n",
       "      <td>2021-04-09 01:00:00</td>\n",
       "      <td>2021-04-09 00:00:00</td>\n",
       "    </tr>\n",
       "    <tr>\n",
       "      <th>0</th>\n",
       "      <td>0.0</td>\n",
       "      <td>11.623698</td>\n",
       "      <td>14.860677</td>\n",
       "      <td>14.036719</td>\n",
       "      <td>9514.050293</td>\n",
       "      <td>9445.217773</td>\n",
       "      <td>9573.073568</td>\n",
       "      <td>9491.363444</td>\n",
       "      <td>0.629743</td>\n",
       "      <td>0.591094</td>\n",
       "      <td>...</td>\n",
       "      <td>0.222777</td>\n",
       "      <td>0.224589</td>\n",
       "      <td>4.149902</td>\n",
       "      <td>4.149902</td>\n",
       "      <td>4.149902</td>\n",
       "      <td>4.149902</td>\n",
       "      <td>2020-08-19 11:00:00</td>\n",
       "      <td>2021-07-30 16:00:00</td>\n",
       "      <td>2021-07-30 21:00:00</td>\n",
       "      <td>2021-07-31 00:00:00</td>\n",
       "    </tr>\n",
       "    <tr>\n",
       "      <th>0</th>\n",
       "      <td>9.975781</td>\n",
       "      <td>23.306251</td>\n",
       "      <td>18.038803</td>\n",
       "      <td>21.540625</td>\n",
       "      <td>10795.97054</td>\n",
       "      <td>9796.916016</td>\n",
       "      <td>10278.67627</td>\n",
       "      <td>10077.525879</td>\n",
       "      <td>0.625687</td>\n",
       "      <td>0.625293</td>\n",
       "      <td>...</td>\n",
       "      <td>0.215533</td>\n",
       "      <td>0.2264</td>\n",
       "      <td>4.149902</td>\n",
       "      <td>4.149902</td>\n",
       "      <td>4.149902</td>\n",
       "      <td>4.149902</td>\n",
       "      <td>2021-04-18 06:00:00</td>\n",
       "      <td>2021-04-18 12:00:00</td>\n",
       "      <td>2021-04-06 00:00:00</td>\n",
       "      <td>2021-04-05 17:00:00</td>\n",
       "    </tr>\n",
       "  </tbody>\n",
       "</table>\n",
       "<p>5 rows × 88 columns</p>\n",
       "</div>"
      ],
      "text/plain": [
       "  311FC020.MEAS_Validation1 311FC020.MEAS_Validation2   \n",
       "0               4400.673258               4434.131917  \\\n",
       "0               4537.097249               4588.741862   \n",
       "0                  9.652084                  10.59375   \n",
       "0                       0.0                 11.623698   \n",
       "0                  9.975781                 23.306251   \n",
       "\n",
       "  311FC020.MEAS_Validation3 311FC020.MEAS_Validation4   \n",
       "0               4432.719401                4417.62321  \\\n",
       "0               4540.746257               4532.859701   \n",
       "0                  9.946354                 10.181771   \n",
       "0                 14.860677                 14.036719   \n",
       "0                 18.038803                 21.540625   \n",
       "\n",
       "  311FRQ003.MEAS_Validation1 311FRQ003.MEAS_Validation2   \n",
       "0                8992.334473                 9181.02832  \\\n",
       "0               10408.034831               10412.582682   \n",
       "0                9360.311361                9327.803385   \n",
       "0                9514.050293                9445.217773   \n",
       "0                10795.97054                9796.916016   \n",
       "\n",
       "  311FRQ003.MEAS_Validation3 311FRQ003.MEAS_Validation4   \n",
       "0                9025.379557                9263.697754  \\\n",
       "0               10558.223307               10490.093262   \n",
       "0                9356.099935                9321.415527   \n",
       "0                9573.073568                9491.363444   \n",
       "0                10278.67627               10077.525879   \n",
       "\n",
       "  311PC017.MEAS_Validation1 311PC017.MEAS_Validation2  ...   \n",
       "0                  0.682679                  0.679421  ...  \\\n",
       "0                  0.624072                  0.624805  ...   \n",
       "0                  0.621409                  0.623454  ...   \n",
       "0                  0.629743                  0.591094  ...   \n",
       "0                  0.625687                  0.625293  ...   \n",
       "\n",
       "  314FC750.MEAS_Validation3 314FC750.MEAS_Validation4   \n",
       "0                  0.307904                  0.287075  \\\n",
       "0                  0.214627                   0.21191   \n",
       "0                  0.201043                  0.201949   \n",
       "0                  0.222777                  0.224589   \n",
       "0                  0.215533                    0.2264   \n",
       "\n",
       "  314PC108.MEAS_Validation1 314PC108.MEAS_Validation2   \n",
       "0                  4.149902                  4.149902  \\\n",
       "0                  4.149902                  4.149902   \n",
       "0                  4.149902                  4.149902   \n",
       "0                  4.149902                  4.149902   \n",
       "0                  4.149902                  4.149902   \n",
       "\n",
       "  314PC108.MEAS_Validation3 314PC108.MEAS_Validation4   \n",
       "0                  4.149902                  4.149902  \\\n",
       "0                  4.149902                  4.149902   \n",
       "0                  4.149902                  4.149902   \n",
       "0                  4.149902                  4.149902   \n",
       "0                  4.149902                  4.149902   \n",
       "\n",
       "  Nearest_TimeStamp_Validation1 Nearest_TimeStamp_Validation2   \n",
       "0           2021-06-20 16:00:00           2021-06-18 12:00:00  \\\n",
       "0           2020-09-13 10:00:00           2020-09-13 11:00:00   \n",
       "0           2021-04-09 02:00:00           2021-04-09 03:00:00   \n",
       "0           2020-08-19 11:00:00           2021-07-30 16:00:00   \n",
       "0           2021-04-18 06:00:00           2021-04-18 12:00:00   \n",
       "\n",
       "  Nearest_TimeStamp_Validation3 Nearest_TimeStamp_Validation4  \n",
       "0           2021-06-20 14:00:00           2021-06-18 11:00:00  \n",
       "0           2020-09-13 17:00:00           2020-09-13 12:00:00  \n",
       "0           2021-04-09 01:00:00           2021-04-09 00:00:00  \n",
       "0           2021-07-30 21:00:00           2021-07-31 00:00:00  \n",
       "0           2021-04-06 00:00:00           2021-04-05 17:00:00  \n",
       "\n",
       "[5 rows x 88 columns]"
      ]
     },
     "execution_count": 26,
     "metadata": {},
     "output_type": "execute_result"
    }
   ],
   "source": [
    "res.head()"
   ]
  },
  {
   "cell_type": "code",
   "execution_count": 14,
   "id": "98fb97b6",
   "metadata": {},
   "outputs": [
    {
     "data": {
      "text/plain": [
       "array([[12136, 12084, 12134, 12083],\n",
       "       [ 5980,  5981,  5987,  5982],\n",
       "       [10635, 10636, 10634, 10633],\n",
       "       ...,\n",
       "       [ 6004,  6005,  6013,  6047],\n",
       "       [ 3255,  3757,  3747,  3755],\n",
       "       [12448,  5198, 10627, 10655]], dtype=int64)"
      ]
     },
     "execution_count": 14,
     "metadata": {},
     "output_type": "execute_result"
    }
   ],
   "source": [
    "indices"
   ]
  },
  {
   "cell_type": "code",
   "execution_count": 15,
   "id": "7607a99f",
   "metadata": {},
   "outputs": [
    {
     "data": {
      "text/plain": [
       "(8492, 4)"
      ]
     },
     "execution_count": 15,
     "metadata": {},
     "output_type": "execute_result"
    }
   ],
   "source": [
    "indices.shape"
   ]
  },
  {
   "cell_type": "code",
   "execution_count": 29,
   "id": "5dcb9312",
   "metadata": {},
   "outputs": [],
   "source": [
    "new_final_df.to_csv(Config.result_generating.v1.outputing.output_path)"
   ]
  }
 ],
 "metadata": {
  "kernelspec": {
   "display_name": "Python 3 (ipykernel)",
   "language": "python",
   "name": "python3"
  },
  "language_info": {
   "codemirror_mode": {
    "name": "ipython",
    "version": 3
   },
   "file_extension": ".py",
   "mimetype": "text/x-python",
   "name": "python",
   "nbconvert_exporter": "python",
   "pygments_lexer": "ipython3",
   "version": "3.11.2"
  }
 },
 "nbformat": 4,
 "nbformat_minor": 5
}
